{
 "cells": [
  {
   "cell_type": "code",
   "execution_count": 6,
   "metadata": {},
   "outputs": [],
   "source": [
    "import pandas as pd\n",
    "import os\n",
    "import re"
   ]
  },
  {
   "cell_type": "code",
   "execution_count": null,
   "metadata": {
    "scrolled": true
   },
   "outputs": [],
   "source": [
    "df = pd.read_csv(\"Comments.csv\", encoding='utf8', engine='python')"
   ]
  },
  {
   "cell_type": "code",
   "execution_count": null,
   "metadata": {},
   "outputs": [],
   "source": [
    "for index, row in df.iterrows():\n",
    "    row[\"Comments\"] = row[\"Comments\"].replace(\",\",\"\") # As vírgulas dos números são removidos \n",
    "    row[\"Comments\"] = row[\"Comments\"].replace(\".\",\"\") # Os pontos dos números são removidos  \n",
    "    row[\"Comments\"] = row[\"Comments\"].replace(\"\\n\",\"\") # As quebras de linhas são removidas"
   ]
  },
  {
   "cell_type": "code",
   "execution_count": 66,
   "metadata": {},
   "outputs": [],
   "source": [
    "age_Hz = []\n",
    "for index, row in df.iterrows():\n",
    "    matches = re.findall('\\d+', str(row[\"Comments\"])) # Guarda todos os números que a string possui\n",
    "    \n",
    "    i = 0\n",
    "    for ele in matches: #Separando informações mútiplas em um comentário\n",
    "        if int(ele) >= 5000:\n",
    "            Hz = int(ele)\n",
    "            i+=1\n",
    "        else:\n",
    "            age = int(ele)\n",
    "            i+=1\n",
    "        if(i%2==0):\n",
    "            matches = [age,Hz]\n",
    "            age_Hz.append(matches)    "
   ]
  },
  {
   "cell_type": "code",
   "execution_count": null,
   "metadata": {
    "scrolled": false
   },
   "outputs": [],
   "source": [
    "initial = len(age_Hz)\n",
    "for ele in age_Hz: \n",
    "    age,Hz = ele[0],ele[1]\n",
    "    \n",
    "    if(age>90 or age==0 or Hz>30000):\n",
    "        age_Hz.remove(ele)\n",
    "        \n",
    "lost_of_data = initial-len(age_Hz)\n",
    "print(lost_of_data)"
   ]
  },
  {
   "cell_type": "code",
   "execution_count": 86,
   "metadata": {},
   "outputs": [],
   "source": [
    "df = pd.DataFrame(age_Hz,columns =['Age','Hz']) "
   ]
  },
  {
   "cell_type": "code",
   "execution_count": null,
   "metadata": {},
   "outputs": [],
   "source": [
    "print(df)"
   ]
  },
  {
   "cell_type": "code",
   "execution_count": null,
   "metadata": {},
   "outputs": [],
   "source": [
    "%matplotlib inline\n",
    "\n",
    "df.plot().hist()"
   ]
  }
 ],
 "metadata": {
  "kernelspec": {
   "display_name": "Python 3",
   "language": "python",
   "name": "python3"
  },
  "language_info": {
   "codemirror_mode": {
    "name": "ipython",
    "version": 3
   },
   "file_extension": ".py",
   "mimetype": "text/x-python",
   "name": "python",
   "nbconvert_exporter": "python",
   "pygments_lexer": "ipython3",
   "version": "3.7.4"
  }
 },
 "nbformat": 4,
 "nbformat_minor": 2
}
